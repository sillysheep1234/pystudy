{
 "cells": [
  {
   "cell_type": "code",
   "execution_count": 2,
   "metadata": {
    "scrolled": true
   },
   "outputs": [
    {
     "data": {
      "text/html": [
       "<div>\n",
       "<style>\n",
       "    .dataframe thead tr:only-child th {\n",
       "        text-align: right;\n",
       "    }\n",
       "\n",
       "    .dataframe thead th {\n",
       "        text-align: left;\n",
       "    }\n",
       "\n",
       "    .dataframe tbody tr th {\n",
       "        vertical-align: top;\n",
       "    }\n",
       "</style>\n",
       "<table border=\"1\" class=\"dataframe\">\n",
       "  <thead>\n",
       "    <tr style=\"text-align: right;\">\n",
       "      <th></th>\n",
       "      <th>age</th>\n",
       "      <th>high school age</th>\n",
       "      <th>coding skills</th>\n",
       "      <th>hobby</th>\n",
       "      <th>married</th>\n",
       "      <th>name</th>\n",
       "    </tr>\n",
       "  </thead>\n",
       "  <tbody>\n",
       "    <tr>\n",
       "      <th>0</th>\n",
       "      <td>24</td>\n",
       "      <td>15</td>\n",
       "      <td>['python', 'matlab', 'java', 'c', 'c++', 'ruby...</td>\n",
       "      <td>['sports', 'reading']</td>\n",
       "      <td>False</td>\n",
       "      <td>echo</td>\n",
       "    </tr>\n",
       "    <tr>\n",
       "      <th>1</th>\n",
       "      <td>34</td>\n",
       "      <td>15</td>\n",
       "      <td>['python2', 'matlab2', 'java2', 'c2', 'c++2', ...</td>\n",
       "      <td>['sports', 'reading']</td>\n",
       "      <td>False</td>\n",
       "      <td>echo2</td>\n",
       "    </tr>\n",
       "  </tbody>\n",
       "</table>\n",
       "</div>"
      ],
      "text/plain": [
       "   age  high school age                                      coding skills  \\\n",
       "0   24               15  ['python', 'matlab', 'java', 'c', 'c++', 'ruby...   \n",
       "1   34               15  ['python2', 'matlab2', 'java2', 'c2', 'c++2', ...   \n",
       "\n",
       "                   hobby  married   name  \n",
       "0  ['sports', 'reading']    False   echo  \n",
       "1  ['sports', 'reading']    False  echo2  "
      ]
     },
     "execution_count": 2,
     "metadata": {},
     "output_type": "execute_result"
    }
   ],
   "source": [
    "import pandas as pd\n",
    "df = pd.read_csv('json_csv_2.csv',sep='\\t')\n",
    "df.head()"
   ]
  },
  {
   "cell_type": "code",
   "execution_count": 5,
   "metadata": {
    "scrolled": true
   },
   "outputs": [
    {
     "data": {
      "text/html": [
       "<div>\n",
       "<style>\n",
       "    .dataframe thead tr:only-child th {\n",
       "        text-align: right;\n",
       "    }\n",
       "\n",
       "    .dataframe thead th {\n",
       "        text-align: left;\n",
       "    }\n",
       "\n",
       "    .dataframe tbody tr th {\n",
       "        vertical-align: top;\n",
       "    }\n",
       "</style>\n",
       "<table border=\"1\" class=\"dataframe\">\n",
       "  <thead>\n",
       "    <tr style=\"text-align: right;\">\n",
       "      <th></th>\n",
       "      <th>age</th>\n",
       "      <th>high school age</th>\n",
       "      <th>coding skills</th>\n",
       "      <th>hobby</th>\n",
       "      <th>married</th>\n",
       "    </tr>\n",
       "    <tr>\n",
       "      <th>name</th>\n",
       "      <th></th>\n",
       "      <th></th>\n",
       "      <th></th>\n",
       "      <th></th>\n",
       "      <th></th>\n",
       "    </tr>\n",
       "  </thead>\n",
       "  <tbody>\n",
       "    <tr>\n",
       "      <th>echo</th>\n",
       "      <td>1</td>\n",
       "      <td>1</td>\n",
       "      <td>1</td>\n",
       "      <td>1</td>\n",
       "      <td>1</td>\n",
       "    </tr>\n",
       "    <tr>\n",
       "      <th>echo2</th>\n",
       "      <td>1</td>\n",
       "      <td>1</td>\n",
       "      <td>1</td>\n",
       "      <td>1</td>\n",
       "      <td>1</td>\n",
       "    </tr>\n",
       "  </tbody>\n",
       "</table>\n",
       "</div>"
      ],
      "text/plain": [
       "       age  high school age  coding skills  hobby  married\n",
       "name                                                      \n",
       "echo     1                1              1      1        1\n",
       "echo2    1                1              1      1        1"
      ]
     },
     "execution_count": 5,
     "metadata": {},
     "output_type": "execute_result"
    }
   ],
   "source": [
    "df.groupby('name').count()"
   ]
  },
  {
   "cell_type": "code",
   "execution_count": 8,
   "metadata": {},
   "outputs": [
    {
     "ename": "NameError",
     "evalue": "name 'python' is not defined",
     "output_type": "error",
     "traceback": [
      "\u001b[1;31m---------------------------------------------------------------------------\u001b[0m",
      "\u001b[1;31mNameError\u001b[0m                                 Traceback (most recent call last)",
      "\u001b[1;32m<ipython-input-8-97e634397e65>\u001b[0m in \u001b[0;36m<module>\u001b[1;34m()\u001b[0m\n\u001b[1;32m----> 1\u001b[1;33m \u001b[0mpython\u001b[0m \u001b[1;33m-\u001b[0m\u001b[0mv\u001b[0m\u001b[1;33m\u001b[0m\u001b[0m\n\u001b[0m",
      "\u001b[1;31mNameError\u001b[0m: name 'python' is not defined"
     ]
    }
   ],
   "source": [
    "python -v"
   ]
  },
  {
   "cell_type": "code",
   "execution_count": 11,
   "metadata": {},
   "outputs": [
    {
     "name": "stdout",
     "output_type": "stream",
     "text": [
      " 驱动器 C 中的卷是 Windows\n",
      " 卷的序列号是 781C-54BE\n",
      "\n",
      " C:\\Users\\Zhenqi\\py_script 的目录\n",
      "\n",
      "2018/01/05  01:19               786  django.ipynb\n",
      "2018/03/04  23:11    <DIR>          .\n",
      "2018/03/04  23:11    <DIR>          ..\n",
      "2018/03/04  19:58    <DIR>          .ipynb_checkpoints\n",
      "2018/02/22  22:37    <DIR>          __pycache__\n",
      "2017/12/31  03:28             7,358 171231.ipynb\n",
      "2018/01/02  00:20            69,238 180101.ipynb\n",
      "2018/01/03  00:54             3,298 180102.ipynb\n",
      "2018/01/05  01:07             4,754 180104.ipynb\n",
      "2018/01/07  03:08             7,566 180106.ipynb\n",
      "2018/01/15  01:23           132,747 180114.ipynb\n",
      "2018/02/22  22:37             4,750 180216.ipynb\n",
      "2018/02/22  22:37             1,849 180218.ipynb\n",
      "2018/03/04  19:56             4,824 180227.ipynb\n",
      "2018/03/04  23:08             6,696 180304.ipynb\n",
      "2018/02/22  22:37            66,344 DataFrame研究.ipynb\n",
      "2018/01/07  02:05               159 ex1.py\n",
      "2018/01/07  02:20               324 ex2.py\n",
      "2018/02/22  22:37    <DIR>          HDFS download\n",
      "2018/03/04  23:11                20 hello_world.py\n",
      "2018/02/22  22:37    <DIR>          history\n",
      "2018/03/04  19:56             4,157 JSON 解析.ipynb\n",
      "2018/03/04  19:56               258 json_csv_2.csv\n",
      "2018/02/22  22:37    <DIR>          kennethreitz-requests-ddf7df9\n",
      "2018/01/01  00:37             1,140 list&set.ipynb\n",
      "2018/02/22  22:37    <DIR>          Pillow-3.3.1\n",
      "2018/03/04  19:56               517 status.json\n",
      "2018/03/04  19:56               516 status.json.bak\n",
      "2018/03/04  19:56             2,040 study plan.ipynb\n",
      "2018/02/22  22:37             2,787 transaction_data_v2.txt\n",
      "2018/02/22  22:37             2,509 transaction_demo\n",
      "2018/02/22  22:37           130,375 transaction_interval_calculate.ipynb\n",
      "2018/02/22  22:37            35,357 transaction_interval_calculate_v2.ipynb\n",
      "2018/02/22  22:37            21,514 transaction_interval_calculate_v3.ipynb\n",
      "2018/01/07  03:00             2,860 Untitled.ipynb\n",
      "              27 个文件        514,743 字节\n",
      "               8 个目录 32,912,166,912 可用字节\n"
     ]
    }
   ],
   "source": [
    "%ls\n"
   ]
  },
  {
   "cell_type": "code",
   "execution_count": 13,
   "metadata": {},
   "outputs": [
    {
     "name": "stdout",
     "output_type": "stream",
     "text": [
      "hello world\n"
     ]
    }
   ],
   "source": [
    "run hello_world.py"
   ]
  },
  {
   "cell_type": "code",
   "execution_count": 14,
   "metadata": {
    "collapsed": true
   },
   "outputs": [],
   "source": [
    "import os"
   ]
  },
  {
   "cell_type": "code",
   "execution_count": null,
   "metadata": {
    "collapsed": true
   },
   "outputs": [],
   "source": []
  }
 ],
 "metadata": {
  "kernelspec": {
   "display_name": "Python 3",
   "language": "python",
   "name": "python3"
  },
  "language_info": {
   "codemirror_mode": {
    "name": "ipython",
    "version": 3
   },
   "file_extension": ".py",
   "mimetype": "text/x-python",
   "name": "python",
   "nbconvert_exporter": "python",
   "pygments_lexer": "ipython3",
   "version": "3.6.3"
  }
 },
 "nbformat": 4,
 "nbformat_minor": 2
}
